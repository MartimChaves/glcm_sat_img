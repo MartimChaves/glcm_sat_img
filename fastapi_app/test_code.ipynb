{
 "cells": [
  {
   "cell_type": "code",
   "execution_count": 18,
   "metadata": {},
   "outputs": [],
   "source": [
    "from inference import ImageFeatures\n",
    "import numpy as np\n",
    "import matplotlib.pyplot as plt\n",
    "import pandas as pd"
   ]
  },
  {
   "cell_type": "code",
   "execution_count": 15,
   "metadata": {},
   "outputs": [],
   "source": [
    "img = plt.imread(\"./imgs/img_00000.jpg\")"
   ]
  },
  {
   "cell_type": "code",
   "execution_count": 9,
   "metadata": {},
   "outputs": [
    {
     "data": {
      "text/plain": [
       "numpy.ndarray"
      ]
     },
     "execution_count": 9,
     "metadata": {},
     "output_type": "execute_result"
    }
   ],
   "source": [
    "type(img)"
   ]
  },
  {
   "cell_type": "code",
   "execution_count": 14,
   "metadata": {},
   "outputs": [],
   "source": [
    "img_features = ImageFeatures()\n",
    "features = img_features.calculate_features(img)"
   ]
  },
  {
   "cell_type": "code",
   "execution_count": 36,
   "metadata": {},
   "outputs": [],
   "source": [
    "def norm_features(features):\n",
    "    norm_stats_df = pd.read_csv(\"norm_stats.csv\")\n",
    "    \n",
    "    mean_arr = np.array(norm_stats_df[\"mean\"])\n",
    "    std_arr = np.array(norm_stats_df[\"std\"])\n",
    "    \n",
    "    for idx, feat in enumerate(features):\n",
    "        temp_feat = (feat-mean_arr[idx])/std_arr[idx]\n",
    "        features[idx] = temp_feat\n",
    "\n",
    "    return features"
   ]
  },
  {
   "cell_type": "code",
   "execution_count": 29,
   "metadata": {},
   "outputs": [
    {
     "data": {
      "text/plain": [
       "array([2.81631625e-02, 9.21183362e-01, 1.05437832e+02, 1.79380938e-01,\n",
       "       3.18552882e-02, 9.47182886e-01, 7.26561631e-01, 6.32564321e+02])"
      ]
     },
     "execution_count": 29,
     "metadata": {},
     "output_type": "execute_result"
    }
   ],
   "source": [
    "features"
   ]
  },
  {
   "cell_type": "code",
   "execution_count": 38,
   "metadata": {},
   "outputs": [],
   "source": [
    "normed_features = norm_features(features)"
   ]
  },
  {
   "cell_type": "code",
   "execution_count": 39,
   "metadata": {},
   "outputs": [
    {
     "data": {
      "text/plain": [
       "array([-0.83982475,  0.8963851 ,  0.43651718, -0.18676696, -0.49709153,\n",
       "        0.95196192,  1.26849465, -0.58622044])"
      ]
     },
     "execution_count": 39,
     "metadata": {},
     "output_type": "execute_result"
    }
   ],
   "source": [
    "normed_features"
   ]
  }
 ],
 "metadata": {
  "kernelspec": {
   "display_name": "sat-img",
   "language": "python",
   "name": "python3"
  },
  "language_info": {
   "codemirror_mode": {
    "name": "ipython",
    "version": 3
   },
   "file_extension": ".py",
   "mimetype": "text/x-python",
   "name": "python",
   "nbconvert_exporter": "python",
   "pygments_lexer": "ipython3",
   "version": "3.10.8"
  },
  "orig_nbformat": 4,
  "vscode": {
   "interpreter": {
    "hash": "10c2d30ab3c03574438e74ea5b94e178afd66513a9fa662236d3e324c4c814fd"
   }
  }
 },
 "nbformat": 4,
 "nbformat_minor": 2
}
